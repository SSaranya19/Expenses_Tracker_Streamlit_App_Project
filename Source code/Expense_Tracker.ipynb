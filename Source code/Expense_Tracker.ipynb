{
 "cells": [
  {
   "cell_type": "markdown",
   "id": "d0c6ae38-0209-4314-87f9-59fb2979e8d7",
   "metadata": {},
   "source": [
    "# Using the Faker library to generating a realistic dataset"
   ]
  },
  {
   "cell_type": "code",
   "execution_count": 17,
   "id": "a4232047-7839-40c8-b815-7cf017518403",
   "metadata": {},
   "outputs": [
    {
     "data": {
      "text/html": [
       "<div>\n",
       "<style scoped>\n",
       "    .dataframe tbody tr th:only-of-type {\n",
       "        vertical-align: middle;\n",
       "    }\n",
       "\n",
       "    .dataframe tbody tr th {\n",
       "        vertical-align: top;\n",
       "    }\n",
       "\n",
       "    .dataframe thead th {\n",
       "        text-align: right;\n",
       "    }\n",
       "</style>\n",
       "<table border=\"1\" class=\"dataframe\">\n",
       "  <thead>\n",
       "    <tr style=\"text-align: right;\">\n",
       "      <th></th>\n",
       "      <th>Date</th>\n",
       "      <th>Category</th>\n",
       "      <th>Payment_Mode</th>\n",
       "      <th>Description</th>\n",
       "      <th>Amount</th>\n",
       "      <th>Cashback</th>\n",
       "    </tr>\n",
       "  </thead>\n",
       "  <tbody>\n",
       "    <tr>\n",
       "      <th>0</th>\n",
       "      <td>2024-12-01</td>\n",
       "      <td>Investment</td>\n",
       "      <td>Debit Card</td>\n",
       "      <td>Investment in gold</td>\n",
       "      <td>426.04</td>\n",
       "      <td>0.00</td>\n",
       "    </tr>\n",
       "    <tr>\n",
       "      <th>1</th>\n",
       "      <td>2024-12-01</td>\n",
       "      <td>Food</td>\n",
       "      <td>Debit Card</td>\n",
       "      <td>Had dinner at a restaurant with friends</td>\n",
       "      <td>559.55</td>\n",
       "      <td>0.00</td>\n",
       "    </tr>\n",
       "    <tr>\n",
       "      <th>2</th>\n",
       "      <td>2024-12-01</td>\n",
       "      <td>Shopping</td>\n",
       "      <td>Credit Card</td>\n",
       "      <td>Bought household items</td>\n",
       "      <td>824.80</td>\n",
       "      <td>0.00</td>\n",
       "    </tr>\n",
       "    <tr>\n",
       "      <th>3</th>\n",
       "      <td>2024-12-01</td>\n",
       "      <td>Groceries</td>\n",
       "      <td>UPI</td>\n",
       "      <td>Grocery shopping at the local store</td>\n",
       "      <td>168.72</td>\n",
       "      <td>6.47</td>\n",
       "    </tr>\n",
       "    <tr>\n",
       "      <th>4</th>\n",
       "      <td>2024-12-01</td>\n",
       "      <td>Medical Health</td>\n",
       "      <td>Debit Card</td>\n",
       "      <td>Doctor's consultation fee</td>\n",
       "      <td>159.82</td>\n",
       "      <td>0.00</td>\n",
       "    </tr>\n",
       "    <tr>\n",
       "      <th>...</th>\n",
       "      <td>...</td>\n",
       "      <td>...</td>\n",
       "      <td>...</td>\n",
       "      <td>...</td>\n",
       "      <td>...</td>\n",
       "      <td>...</td>\n",
       "    </tr>\n",
       "    <tr>\n",
       "      <th>195</th>\n",
       "      <td>2024-12-30</td>\n",
       "      <td>Shopping</td>\n",
       "      <td>UPI</td>\n",
       "      <td>Bought a gift for a friend's birthday</td>\n",
       "      <td>220.89</td>\n",
       "      <td>6.43</td>\n",
       "    </tr>\n",
       "    <tr>\n",
       "      <th>196</th>\n",
       "      <td>2024-12-30</td>\n",
       "      <td>Investment</td>\n",
       "      <td>Debit Card</td>\n",
       "      <td>Invested in stocks</td>\n",
       "      <td>521.42</td>\n",
       "      <td>0.00</td>\n",
       "    </tr>\n",
       "    <tr>\n",
       "      <th>197</th>\n",
       "      <td>2024-12-30</td>\n",
       "      <td>Food</td>\n",
       "      <td>Netbanking</td>\n",
       "      <td>Ordered food from swiggy</td>\n",
       "      <td>830.88</td>\n",
       "      <td>0.00</td>\n",
       "    </tr>\n",
       "    <tr>\n",
       "      <th>198</th>\n",
       "      <td>2024-12-30</td>\n",
       "      <td>Food</td>\n",
       "      <td>Netbanking</td>\n",
       "      <td>Had dinner at a restaurant with friends</td>\n",
       "      <td>843.46</td>\n",
       "      <td>0.00</td>\n",
       "    </tr>\n",
       "    <tr>\n",
       "      <th>199</th>\n",
       "      <td>2024-12-30</td>\n",
       "      <td>Groceries</td>\n",
       "      <td>UPI</td>\n",
       "      <td>Purchased daily essentials</td>\n",
       "      <td>626.42</td>\n",
       "      <td>0.00</td>\n",
       "    </tr>\n",
       "  </tbody>\n",
       "</table>\n",
       "<p>200 rows × 6 columns</p>\n",
       "</div>"
      ],
      "text/plain": [
       "           Date        Category Payment_Mode  \\\n",
       "0    2024-12-01      Investment   Debit Card   \n",
       "1    2024-12-01            Food   Debit Card   \n",
       "2    2024-12-01        Shopping  Credit Card   \n",
       "3    2024-12-01       Groceries          UPI   \n",
       "4    2024-12-01  Medical Health   Debit Card   \n",
       "..          ...             ...          ...   \n",
       "195  2024-12-30        Shopping          UPI   \n",
       "196  2024-12-30      Investment   Debit Card   \n",
       "197  2024-12-30            Food   Netbanking   \n",
       "198  2024-12-30            Food   Netbanking   \n",
       "199  2024-12-30       Groceries          UPI   \n",
       "\n",
       "                                 Description  Amount  Cashback  \n",
       "0                         Investment in gold  426.04      0.00  \n",
       "1    Had dinner at a restaurant with friends  559.55      0.00  \n",
       "2                     Bought household items  824.80      0.00  \n",
       "3        Grocery shopping at the local store  168.72      6.47  \n",
       "4                  Doctor's consultation fee  159.82      0.00  \n",
       "..                                       ...     ...       ...  \n",
       "195    Bought a gift for a friend's birthday  220.89      6.43  \n",
       "196                       Invested in stocks  521.42      0.00  \n",
       "197                 Ordered food from swiggy  830.88      0.00  \n",
       "198  Had dinner at a restaurant with friends  843.46      0.00  \n",
       "199               Purchased daily essentials  626.42      0.00  \n",
       "\n",
       "[200 rows x 6 columns]"
      ]
     },
     "execution_count": 17,
     "metadata": {},
     "output_type": "execute_result"
    }
   ],
   "source": [
    "import random\n",
    "import pandas as pd\n",
    "from faker import Faker\n",
    "from datetime import date\n",
    "\n",
    "# Initialize Faker\n",
    "fake = Faker()\n",
    "\n",
    "# Define categories, payment modes\n",
    "categories = [\"Groceries\", \"Food\", \"Transportation\", \"Entertainment\", \"Shopping\", \"Medical Health\", \"Investment\"]\n",
    "payment_modes = [\"Cash\", \"UPI\", \"Debit Card\", \"Credit Card\", \"Netbanking\"]\n",
    "\n",
    "# Define category specific descriptions\n",
    "category_descriptions = {\n",
    "    \"Groceries\": [\"Bought vegetables and fruits\", \"Grocery shopping at the local store\", \"Purchased daily essentials\", \"Bought fresh fruits and snacks\"],\n",
    "    \"Food\": [\"Ordered food from swiggy\", \"Had lunch at hotel\", \"Dinner delivery from zomato\", \"Took out a meal from a restaurant\", \"Had dinner at a restaurant with friends\"],\n",
    "    \"Transportation\": [\"Fuel refilled for the bike\", \"Paid for train ticket\", \"Uber ride to the office\", \"Paid for a cab ride to work\", \"Bought a metro ticket for travel\"],\n",
    "    \"Entertainment\": [\"Movie tickets\", \"Concert tickets\", \"Gaming console purchase\"],\n",
    "    \"Shopping\": [\"Bought clothes\", \"Shopping for accessories\", \"Bought household items\", \"Purchased electronics\", \"Bought a gift for a friend's birthday\"],\n",
    "    \"Medical Health\": [\"Doctor's consultation fee\", \"Bought medication\", \"Medical insurance payment\", \"Health checkup cost\"],\n",
    "    \"Investment\": [\"Invested in stocks\", \"Bought mutual fund units\", \"Investment in gold\", \"Purchased bonds\"]\n",
    "}\n",
    "\n",
    "# Generating random monthly expense data\n",
    "def gen_exp_data(month, year, num_entries=200):\n",
    "    data = []\n",
    "    start_date = date(year, month, 1)\n",
    "    end_date = date(year, month, 31)\n",
    "    for _ in range(num_entries):\n",
    "        category = random.choice(categories)\n",
    "        amount_paid = round(random.uniform(10, 1000), 2)\n",
    "        description = random.choice(category_descriptions.get(category, []))\n",
    "        payment_mode = random.choice(payment_modes)\n",
    "        \n",
    "        # Cashback mostly get only for UPI and Credit Card\n",
    "        if payment_mode in [\"Cash\", \"Netbanking\", \"Debit Card\"]:\n",
    "            cashback = 0\n",
    "        else:\n",
    "            cashback = round(random.uniform(0, 10), 2) if random.random() < 0.2 else 0\n",
    "\n",
    "        record = {\n",
    "            \"Date\": fake.date_between(start_date=start_date, end_date=end_date),\n",
    "            \"Category\": category,\n",
    "            \"Payment_Mode\": payment_mode,\n",
    "            \"Description\": description,\n",
    "            \"Amount\": amount_paid,\n",
    "            \"Cashback\": cashback\n",
    "        }\n",
    "        data.append(record)\n",
    "    return pd.DataFrame(data)\n",
    "\n",
    "df = gen_exp_data(month=12, year=2024, num_entries=200)\n",
    "df = df.sort_values(\"Date\").reset_index(drop=True)\n",
    "df"
   ]
  },
  {
   "cell_type": "markdown",
   "id": "cb6ef3c0-681a-4baf-955b-07efe632d5f1",
   "metadata": {},
   "source": [
    "## Save as CSV"
   ]
  },
  {
   "cell_type": "code",
   "execution_count": 73,
   "id": "569e287e-0119-4dac-b41d-bb88eb82387c",
   "metadata": {},
   "outputs": [],
   "source": [
    "df.to_csv('dec_24.csv', index=False)"
   ]
  },
  {
   "cell_type": "markdown",
   "id": "fa044bb3-a30d-4f26-9ef6-e893a109ba7d",
   "metadata": {},
   "source": [
    "## Combining all CSV files"
   ]
  },
  {
   "cell_type": "code",
   "execution_count": 75,
   "id": "1221a234-6d14-49f0-ac2c-1e01a7e15d73",
   "metadata": {},
   "outputs": [
    {
     "name": "stdout",
     "output_type": "stream",
     "text": [
      "CSV files concatenated successfully!\n"
     ]
    }
   ],
   "source": [
    "import pandas as pd\n",
    "import os\n",
    "\n",
    "# The directory containing the CSV files\n",
    "directory = r\"C:\\Users\\DELL\\Desktop\\Project\\Project1\\new_csv_files\"\n",
    "\n",
    "# Get a list of all CSV files in the directory\n",
    "csv_files = [file for file in os.listdir(directory) if file.endswith('.csv')]\n",
    "\n",
    "# Combine all CSV files into a single DataFrame\n",
    "combined_df = pd.concat([pd.read_csv(os.path.join(directory, file)) for file in csv_files])\n",
    "\n",
    "# Sort the combined DataFrame and save as csv\n",
    "sorted_df = combined_df.sort_values(by='Date')\n",
    "sorted_df.to_csv(\"Expenses_tracker.csv\", index=False)\n",
    "\n",
    "print(\"CSV files concatenated successfully!\")"
   ]
  },
  {
   "cell_type": "markdown",
   "id": "d711ca6a-224f-462f-8509-16e618369767",
   "metadata": {},
   "source": [
    "## EDA"
   ]
  },
  {
   "cell_type": "code",
   "execution_count": 19,
   "id": "575d3032-0595-41da-be8d-26bc9478a7d1",
   "metadata": {},
   "outputs": [],
   "source": [
    "df = pd.read_csv(r'C:\\Users\\DELL\\Desktop\\Project\\Project1\\Expenses_tracker.csv')"
   ]
  },
  {
   "cell_type": "code",
   "execution_count": 21,
   "id": "39ccb5a7-88b3-4b41-b3be-845b91b02419",
   "metadata": {},
   "outputs": [
    {
     "data": {
      "text/html": [
       "<div>\n",
       "<style scoped>\n",
       "    .dataframe tbody tr th:only-of-type {\n",
       "        vertical-align: middle;\n",
       "    }\n",
       "\n",
       "    .dataframe tbody tr th {\n",
       "        vertical-align: top;\n",
       "    }\n",
       "\n",
       "    .dataframe thead th {\n",
       "        text-align: right;\n",
       "    }\n",
       "</style>\n",
       "<table border=\"1\" class=\"dataframe\">\n",
       "  <thead>\n",
       "    <tr style=\"text-align: right;\">\n",
       "      <th></th>\n",
       "      <th>Date</th>\n",
       "      <th>Category</th>\n",
       "      <th>Payment_Mode</th>\n",
       "      <th>Description</th>\n",
       "      <th>Amount</th>\n",
       "      <th>Cashback</th>\n",
       "    </tr>\n",
       "  </thead>\n",
       "  <tbody>\n",
       "    <tr>\n",
       "      <th>0</th>\n",
       "      <td>1/1/2024</td>\n",
       "      <td>Investment</td>\n",
       "      <td>UPI</td>\n",
       "      <td>Bought mutual fund units</td>\n",
       "      <td>207.67</td>\n",
       "      <td>0.0</td>\n",
       "    </tr>\n",
       "    <tr>\n",
       "      <th>1</th>\n",
       "      <td>1/1/2024</td>\n",
       "      <td>Entertainment</td>\n",
       "      <td>Netbanking</td>\n",
       "      <td>Concert tickets</td>\n",
       "      <td>58.09</td>\n",
       "      <td>0.0</td>\n",
       "    </tr>\n",
       "    <tr>\n",
       "      <th>2</th>\n",
       "      <td>1/1/2024</td>\n",
       "      <td>Food</td>\n",
       "      <td>Credit Card</td>\n",
       "      <td>Had dinner at a restaurant with friends</td>\n",
       "      <td>383.10</td>\n",
       "      <td>0.0</td>\n",
       "    </tr>\n",
       "    <tr>\n",
       "      <th>3</th>\n",
       "      <td>1/1/2024</td>\n",
       "      <td>Entertainment</td>\n",
       "      <td>Netbanking</td>\n",
       "      <td>Concert tickets</td>\n",
       "      <td>817.16</td>\n",
       "      <td>0.0</td>\n",
       "    </tr>\n",
       "    <tr>\n",
       "      <th>4</th>\n",
       "      <td>1/1/2024</td>\n",
       "      <td>Food</td>\n",
       "      <td>Netbanking</td>\n",
       "      <td>Had dinner at a restaurant with friends</td>\n",
       "      <td>611.15</td>\n",
       "      <td>0.0</td>\n",
       "    </tr>\n",
       "  </tbody>\n",
       "</table>\n",
       "</div>"
      ],
      "text/plain": [
       "       Date       Category Payment_Mode  \\\n",
       "0  1/1/2024     Investment          UPI   \n",
       "1  1/1/2024  Entertainment   Netbanking   \n",
       "2  1/1/2024           Food  Credit Card   \n",
       "3  1/1/2024  Entertainment   Netbanking   \n",
       "4  1/1/2024           Food   Netbanking   \n",
       "\n",
       "                               Description  Amount  Cashback  \n",
       "0                 Bought mutual fund units  207.67       0.0  \n",
       "1                          Concert tickets   58.09       0.0  \n",
       "2  Had dinner at a restaurant with friends  383.10       0.0  \n",
       "3                          Concert tickets  817.16       0.0  \n",
       "4  Had dinner at a restaurant with friends  611.15       0.0  "
      ]
     },
     "execution_count": 21,
     "metadata": {},
     "output_type": "execute_result"
    }
   ],
   "source": [
    "df.head()"
   ]
  },
  {
   "cell_type": "code",
   "execution_count": 23,
   "id": "44cd3a01-03f3-4ed5-afef-c45fdfe5d46d",
   "metadata": {},
   "outputs": [
    {
     "data": {
      "text/plain": [
       "(2400, 6)"
      ]
     },
     "execution_count": 23,
     "metadata": {},
     "output_type": "execute_result"
    }
   ],
   "source": [
    "df.shape"
   ]
  },
  {
   "cell_type": "code",
   "execution_count": 25,
   "id": "77ed6356-15b0-4f73-9d65-e4ebe6c515b9",
   "metadata": {},
   "outputs": [
    {
     "name": "stdout",
     "output_type": "stream",
     "text": [
      "<class 'pandas.core.frame.DataFrame'>\n",
      "RangeIndex: 2400 entries, 0 to 2399\n",
      "Data columns (total 6 columns):\n",
      " #   Column        Non-Null Count  Dtype  \n",
      "---  ------        --------------  -----  \n",
      " 0   Date          2400 non-null   object \n",
      " 1   Category      2400 non-null   object \n",
      " 2   Payment_Mode  2400 non-null   object \n",
      " 3   Description   2400 non-null   object \n",
      " 4   Amount        2400 non-null   float64\n",
      " 5   Cashback      2400 non-null   float64\n",
      "dtypes: float64(2), object(4)\n",
      "memory usage: 112.6+ KB\n"
     ]
    }
   ],
   "source": [
    "df.info()"
   ]
  },
  {
   "cell_type": "code",
   "execution_count": 27,
   "id": "592fff0a-4b4b-46b5-8b8f-1e2547a34e99",
   "metadata": {},
   "outputs": [
    {
     "data": {
      "text/plain": [
       "0"
      ]
     },
     "execution_count": 27,
     "metadata": {},
     "output_type": "execute_result"
    }
   ],
   "source": [
    "# checking duplicates\n",
    "duplicates = df.duplicated().sum()\n",
    "duplicates"
   ]
  },
  {
   "cell_type": "code",
   "execution_count": 33,
   "id": "1f8f35db-f05f-4f32-bf3c-8d7423fbe400",
   "metadata": {},
   "outputs": [
    {
     "data": {
      "text/plain": [
       "Date             353\n",
       "Category           7\n",
       "Payment_Mode       5\n",
       "Description       30\n",
       "Amount          2372\n",
       "Cashback         197\n",
       "dtype: int64"
      ]
     },
     "execution_count": 33,
     "metadata": {},
     "output_type": "execute_result"
    }
   ],
   "source": [
    "df.nunique()"
   ]
  },
  {
   "cell_type": "code",
   "execution_count": 35,
   "id": "55c7b5e2-1712-4184-b6a4-8f1e51f9623d",
   "metadata": {},
   "outputs": [
    {
     "data": {
      "text/html": [
       "<div>\n",
       "<style scoped>\n",
       "    .dataframe tbody tr th:only-of-type {\n",
       "        vertical-align: middle;\n",
       "    }\n",
       "\n",
       "    .dataframe tbody tr th {\n",
       "        vertical-align: top;\n",
       "    }\n",
       "\n",
       "    .dataframe thead th {\n",
       "        text-align: right;\n",
       "    }\n",
       "</style>\n",
       "<table border=\"1\" class=\"dataframe\">\n",
       "  <thead>\n",
       "    <tr style=\"text-align: right;\">\n",
       "      <th></th>\n",
       "      <th>Amount</th>\n",
       "      <th>Cashback</th>\n",
       "    </tr>\n",
       "  </thead>\n",
       "  <tbody>\n",
       "    <tr>\n",
       "      <th>count</th>\n",
       "      <td>2400.000000</td>\n",
       "      <td>2400.000000</td>\n",
       "    </tr>\n",
       "    <tr>\n",
       "      <th>mean</th>\n",
       "      <td>504.720096</td>\n",
       "      <td>0.447646</td>\n",
       "    </tr>\n",
       "    <tr>\n",
       "      <th>std</th>\n",
       "      <td>283.270782</td>\n",
       "      <td>1.672597</td>\n",
       "    </tr>\n",
       "    <tr>\n",
       "      <th>min</th>\n",
       "      <td>10.660000</td>\n",
       "      <td>0.000000</td>\n",
       "    </tr>\n",
       "    <tr>\n",
       "      <th>25%</th>\n",
       "      <td>263.775000</td>\n",
       "      <td>0.000000</td>\n",
       "    </tr>\n",
       "    <tr>\n",
       "      <th>50%</th>\n",
       "      <td>493.220000</td>\n",
       "      <td>0.000000</td>\n",
       "    </tr>\n",
       "    <tr>\n",
       "      <th>75%</th>\n",
       "      <td>746.410000</td>\n",
       "      <td>0.000000</td>\n",
       "    </tr>\n",
       "    <tr>\n",
       "      <th>max</th>\n",
       "      <td>999.890000</td>\n",
       "      <td>9.980000</td>\n",
       "    </tr>\n",
       "  </tbody>\n",
       "</table>\n",
       "</div>"
      ],
      "text/plain": [
       "            Amount     Cashback\n",
       "count  2400.000000  2400.000000\n",
       "mean    504.720096     0.447646\n",
       "std     283.270782     1.672597\n",
       "min      10.660000     0.000000\n",
       "25%     263.775000     0.000000\n",
       "50%     493.220000     0.000000\n",
       "75%     746.410000     0.000000\n",
       "max     999.890000     9.980000"
      ]
     },
     "execution_count": 35,
     "metadata": {},
     "output_type": "execute_result"
    }
   ],
   "source": [
    "df.describe()"
   ]
  },
  {
   "cell_type": "code",
   "execution_count": 37,
   "id": "7516d9fc-7b0d-45bb-9279-7b23c9f38f38",
   "metadata": {},
   "outputs": [],
   "source": [
    "# Converting the 'Date' column to datetime\n",
    "df['Date'] = pd.to_datetime(df['Date'])\n",
    "\n",
    "# Extracting month, year for analysis\n",
    "df['Month'] = df['Date'].dt.month\n",
    "df['Year'] = df['Date'].dt.year"
   ]
  },
  {
   "cell_type": "code",
   "execution_count": 39,
   "id": "fe2117b8-ce95-417f-b03f-31eb926aa542",
   "metadata": {},
   "outputs": [],
   "source": [
    "# Monthly spending\n",
    "monthly_expenses = df.groupby(['Year', 'Month'])['Amount'].sum().reset_index()\n",
    "\n",
    "# Spending category wise\n",
    "category_expenses = df.groupby('Category')['Amount'].sum().reset_index()"
   ]
  },
  {
   "cell_type": "code",
   "execution_count": 41,
   "id": "fd5db477-745e-4406-9d0e-d9c6181216a4",
   "metadata": {},
   "outputs": [
    {
     "data": {
      "text/html": [
       "<div>\n",
       "<style scoped>\n",
       "    .dataframe tbody tr th:only-of-type {\n",
       "        vertical-align: middle;\n",
       "    }\n",
       "\n",
       "    .dataframe tbody tr th {\n",
       "        vertical-align: top;\n",
       "    }\n",
       "\n",
       "    .dataframe thead th {\n",
       "        text-align: right;\n",
       "    }\n",
       "</style>\n",
       "<table border=\"1\" class=\"dataframe\">\n",
       "  <thead>\n",
       "    <tr style=\"text-align: right;\">\n",
       "      <th></th>\n",
       "      <th>Year</th>\n",
       "      <th>Month</th>\n",
       "      <th>Amount</th>\n",
       "    </tr>\n",
       "  </thead>\n",
       "  <tbody>\n",
       "    <tr>\n",
       "      <th>0</th>\n",
       "      <td>2024</td>\n",
       "      <td>1</td>\n",
       "      <td>93074.52</td>\n",
       "    </tr>\n",
       "    <tr>\n",
       "      <th>1</th>\n",
       "      <td>2024</td>\n",
       "      <td>2</td>\n",
       "      <td>104139.21</td>\n",
       "    </tr>\n",
       "    <tr>\n",
       "      <th>2</th>\n",
       "      <td>2024</td>\n",
       "      <td>3</td>\n",
       "      <td>95755.89</td>\n",
       "    </tr>\n",
       "    <tr>\n",
       "      <th>3</th>\n",
       "      <td>2024</td>\n",
       "      <td>4</td>\n",
       "      <td>98088.64</td>\n",
       "    </tr>\n",
       "    <tr>\n",
       "      <th>4</th>\n",
       "      <td>2024</td>\n",
       "      <td>5</td>\n",
       "      <td>109109.86</td>\n",
       "    </tr>\n",
       "    <tr>\n",
       "      <th>5</th>\n",
       "      <td>2024</td>\n",
       "      <td>6</td>\n",
       "      <td>108544.98</td>\n",
       "    </tr>\n",
       "    <tr>\n",
       "      <th>6</th>\n",
       "      <td>2024</td>\n",
       "      <td>7</td>\n",
       "      <td>100762.09</td>\n",
       "    </tr>\n",
       "    <tr>\n",
       "      <th>7</th>\n",
       "      <td>2024</td>\n",
       "      <td>8</td>\n",
       "      <td>92237.80</td>\n",
       "    </tr>\n",
       "    <tr>\n",
       "      <th>8</th>\n",
       "      <td>2024</td>\n",
       "      <td>9</td>\n",
       "      <td>108703.44</td>\n",
       "    </tr>\n",
       "    <tr>\n",
       "      <th>9</th>\n",
       "      <td>2024</td>\n",
       "      <td>10</td>\n",
       "      <td>104330.78</td>\n",
       "    </tr>\n",
       "    <tr>\n",
       "      <th>10</th>\n",
       "      <td>2024</td>\n",
       "      <td>11</td>\n",
       "      <td>97081.39</td>\n",
       "    </tr>\n",
       "    <tr>\n",
       "      <th>11</th>\n",
       "      <td>2024</td>\n",
       "      <td>12</td>\n",
       "      <td>99499.63</td>\n",
       "    </tr>\n",
       "  </tbody>\n",
       "</table>\n",
       "</div>"
      ],
      "text/plain": [
       "    Year  Month     Amount\n",
       "0   2024      1   93074.52\n",
       "1   2024      2  104139.21\n",
       "2   2024      3   95755.89\n",
       "3   2024      4   98088.64\n",
       "4   2024      5  109109.86\n",
       "5   2024      6  108544.98\n",
       "6   2024      7  100762.09\n",
       "7   2024      8   92237.80\n",
       "8   2024      9  108703.44\n",
       "9   2024     10  104330.78\n",
       "10  2024     11   97081.39\n",
       "11  2024     12   99499.63"
      ]
     },
     "execution_count": 41,
     "metadata": {},
     "output_type": "execute_result"
    }
   ],
   "source": [
    "monthly_expenses"
   ]
  },
  {
   "cell_type": "code",
   "execution_count": 43,
   "id": "1671165c-de72-4900-bad8-a78335e2d883",
   "metadata": {},
   "outputs": [
    {
     "data": {
      "text/html": [
       "<div>\n",
       "<style scoped>\n",
       "    .dataframe tbody tr th:only-of-type {\n",
       "        vertical-align: middle;\n",
       "    }\n",
       "\n",
       "    .dataframe tbody tr th {\n",
       "        vertical-align: top;\n",
       "    }\n",
       "\n",
       "    .dataframe thead th {\n",
       "        text-align: right;\n",
       "    }\n",
       "</style>\n",
       "<table border=\"1\" class=\"dataframe\">\n",
       "  <thead>\n",
       "    <tr style=\"text-align: right;\">\n",
       "      <th></th>\n",
       "      <th>Category</th>\n",
       "      <th>Amount</th>\n",
       "    </tr>\n",
       "  </thead>\n",
       "  <tbody>\n",
       "    <tr>\n",
       "      <th>0</th>\n",
       "      <td>Entertainment</td>\n",
       "      <td>164501.83</td>\n",
       "    </tr>\n",
       "    <tr>\n",
       "      <th>1</th>\n",
       "      <td>Food</td>\n",
       "      <td>176518.89</td>\n",
       "    </tr>\n",
       "    <tr>\n",
       "      <th>2</th>\n",
       "      <td>Groceries</td>\n",
       "      <td>170126.47</td>\n",
       "    </tr>\n",
       "    <tr>\n",
       "      <th>3</th>\n",
       "      <td>Investment</td>\n",
       "      <td>186951.88</td>\n",
       "    </tr>\n",
       "    <tr>\n",
       "      <th>4</th>\n",
       "      <td>Medical Health</td>\n",
       "      <td>181797.23</td>\n",
       "    </tr>\n",
       "    <tr>\n",
       "      <th>5</th>\n",
       "      <td>Shopping</td>\n",
       "      <td>155990.07</td>\n",
       "    </tr>\n",
       "    <tr>\n",
       "      <th>6</th>\n",
       "      <td>Transportation</td>\n",
       "      <td>175441.86</td>\n",
       "    </tr>\n",
       "  </tbody>\n",
       "</table>\n",
       "</div>"
      ],
      "text/plain": [
       "         Category     Amount\n",
       "0   Entertainment  164501.83\n",
       "1            Food  176518.89\n",
       "2       Groceries  170126.47\n",
       "3      Investment  186951.88\n",
       "4  Medical Health  181797.23\n",
       "5        Shopping  155990.07\n",
       "6  Transportation  175441.86"
      ]
     },
     "execution_count": 43,
     "metadata": {},
     "output_type": "execute_result"
    }
   ],
   "source": [
    "category_expenses"
   ]
  },
  {
   "cell_type": "code",
   "execution_count": 45,
   "id": "75650bff-3670-423e-a34c-20a2c1d7449e",
   "metadata": {},
   "outputs": [
    {
     "data": {
      "image/png": "[encoded data removed]",
      "text/plain": [
       "<Figure size 1000x600 with 1 Axes>"
      ]
     },
     "metadata": {},
     "output_type": "display_data"
    }
   ],
   "source": [
    "import matplotlib.pyplot as plt\n",
    "import seaborn as sns\n",
    "\n",
    "# Spending by category\n",
    "plt.figure(figsize=(10, 6))\n",
    "sns.barplot(x='Amount', y='Category', data=category_expenses.sort_values(by='Amount', ascending=False))\n",
    "plt.title(\"Spending by Category\")\n",
    "plt.xlabel(\"Total Amount\")\n",
    "plt.ylabel(\"Category\")\n",
    "plt.show()"
   ]
  },
  {
   "cell_type": "markdown",
   "id": "9e992e81-12a2-46d9-be47-dbaf0dd68766",
   "metadata": {},
   "source": [
    "Observation:\n",
    "1. A bar chart showing the total amount spent for each category.\n",
    "2. Identifing which category is the highest and lowest spending.\n",
    "3. Category \"Investment\" have the highest expenses & \"Shopping\" have the lowest expenses."
   ]
  },
  {
   "cell_type": "code",
   "execution_count": 47,
   "id": "abebf91e-2639-4963-ae41-e12a7111bda3",
   "metadata": {},
   "outputs": [
    {
     "data": {
      "image/png": "[encoded data removed]",
      "text/plain": [
       "<Figure size 1200x600 with 1 Axes>"
      ]
     },
     "metadata": {},
     "output_type": "display_data"
    }
   ],
   "source": [
    "# Monthly spending trends\n",
    "monthly_expenses['Month-Year'] = monthly_expenses['Year'].astype(str) + '-' + monthly_expenses['Month'].astype(str)\n",
    "plt.figure(figsize=(12, 6))\n",
    "sns.lineplot(x='Month-Year', y='Amount', data=monthly_expenses)\n",
    "plt.title(\"Monthly Spending Trends\")\n",
    "plt.xlabel(\"Month-Year\")\n",
    "plt.ylabel(\"Total Amount\")\n",
    "plt.xticks(rotation=45)\n",
    "plt.show()"
   ]
  },
  {
   "cell_type": "markdown",
   "id": "4d45fd22-edc7-4d52-a5ae-694001004438",
   "metadata": {},
   "source": [
    "Observation:\n",
    "1. A line chart showing total expenses over time\n",
    "2. Identifing which Month is the highest and lowest spending.\n",
    "3. Month \"May\" have the highest spent & \"August\" have the lowest spent."
   ]
  },
  {
   "cell_type": "code",
   "execution_count": 51,
   "id": "f7684936-697a-4a0b-9a24-5b56b8b67250",
   "metadata": {},
   "outputs": [
    {
     "data": {
      "image/png": "[encoded data removed]",
      "text/plain": [
       "<Figure size 800x600 with 1 Axes>"
      ]
     },
     "metadata": {},
     "output_type": "display_data"
    }
   ],
   "source": [
    "# Payment mode distribution\n",
    "plt.figure(figsize=(8, 6))\n",
    "sns.countplot(y='Payment_Mode', data=df)\n",
    "plt.title(\"Transactions by Payment Mode\")\n",
    "plt.xlabel(\"Count\")\n",
    "plt.ylabel(\"Payment Mode\")\n",
    "plt.show()"
   ]
  },
  {
   "cell_type": "markdown",
   "id": "7e87ec0e-e3d2-480e-902f-b7ffecf85d9e",
   "metadata": {},
   "source": [
    "Observation:\n",
    "1. A bar chart showing the count of transactions for each payment method\n",
    "2. Identifing which payment methods are most frequently used."
   ]
  },
  {
   "cell_type": "markdown",
   "id": "27b6143a-ca86-4866-9fb0-561e95f8bc96",
   "metadata": {},
   "source": [
    "## Connecting Python to MYSQL"
   ]
  },
  {
   "cell_type": "code",
   "execution_count": 288,
   "id": "84e956fc-2418-435a-8a8a-200c17740283",
   "metadata": {},
   "outputs": [
    {
     "name": "stdout",
     "output_type": "stream",
     "text": [
      "Collecting pymysqlNote: you may need to restart the kernel to use updated packages.\n",
      "\n",
      "  Using cached PyMySQL-1.1.1-py3-none-any.whl.metadata (4.4 kB)\n",
      "Using cached PyMySQL-1.1.1-py3-none-any.whl (44 kB)\n",
      "Installing collected packages: pymysql\n",
      "Successfully installed pymysql-1.1.1\n"
     ]
    }
   ],
   "source": [
    "pip install pymysql"
   ]
  },
  {
   "cell_type": "code",
   "execution_count": 290,
   "id": "80cee3ea-1259-40ad-86de-62354924f952",
   "metadata": {},
   "outputs": [
    {
     "name": "stdout",
     "output_type": "stream",
     "text": [
      "<pymysql.connections.Connection object at 0x00000284A7B5E930>\n"
     ]
    }
   ],
   "source": [
    "import pymysql\n",
    "con= pymysql.connect(\n",
    "    host=\"localhost\",\n",
    "    user=\"root\",\n",
    "    password=\"user_password\",\n",
    "    autocommit=True\n",
    "    )\n",
    "print(con)"
   ]
  },
  {
   "cell_type": "markdown",
   "id": "ed3f30ab-dcb5-46be-bc9f-bf3e9ded92b1",
   "metadata": {},
   "source": [
    "## Create MYSQL Database"
   ]
  },
  {
   "cell_type": "code",
   "execution_count": 292,
   "id": "94858471-9335-4b39-93f6-f10f3bc85fb4",
   "metadata": {},
   "outputs": [
    {
     "name": "stdout",
     "output_type": "stream",
     "text": [
      "('expense_db',)\n",
      "('expenses_db',)\n",
      "('information_schema',)\n",
      "('mysql',)\n",
      "('performance_schema',)\n",
      "('sqlpython1',)\n",
      "('sys',)\n"
     ]
    }
   ],
   "source": [
    "mycursor=con.cursor()\n",
    "mycursor.execute(\"CREATE DATABASE EXPENSES_DB\")\n",
    "mycursor.execute(\"SHOW DATABASES\")\n",
    "for x in mycursor:\n",
    "    print(x)"
   ]
  },
  {
   "cell_type": "code",
   "execution_count": 294,
   "id": "d5ac850a-da43-4d60-a629-5c7eab798d3b",
   "metadata": {},
   "outputs": [
    {
     "data": {
      "text/plain": [
       "0"
      ]
     },
     "execution_count": 294,
     "metadata": {},
     "output_type": "execute_result"
    }
   ],
   "source": [
    "mycursor.execute(\"USE EXPENSES_DB\")"
   ]
  },
  {
   "cell_type": "markdown",
   "id": "f515ca48-0903-4e27-abe9-f6f1bdf96a23",
   "metadata": {},
   "source": [
    "## Create Table"
   ]
  },
  {
   "cell_type": "code",
   "execution_count": 296,
   "id": "ad205003-a4b2-4c07-8235-6a17e033dd89",
   "metadata": {},
   "outputs": [
    {
     "data": {
      "text/plain": [
       "0"
      ]
     },
     "execution_count": 296,
     "metadata": {},
     "output_type": "execute_result"
    }
   ],
   "source": [
    "mycursor.execute(\"CREATE TABLE Expense_tb (id INT AUTO_INCREMENT PRIMARY KEY, Date DATE, Category VARCHAR(255), Payment_Mode VARCHAR(255), Description TEXT, Amount DECIMAL(10, 2), Cashback DECIMAL(10, 2))\")"
   ]
  },
  {
   "cell_type": "markdown",
   "id": "5c0b2271-e82e-4572-b55f-250542dbc7d1",
   "metadata": {},
   "source": [
    "## Read CSV File"
   ]
  },
  {
   "cell_type": "code",
   "execution_count": 298,
   "id": "c7730b61-821f-4533-8843-8197486c53a6",
   "metadata": {},
   "outputs": [],
   "source": [
    "import pandas as pd\n",
    "df = pd.read_csv(r'C:\\Users\\DELL\\Desktop\\Project\\Project1\\Expenses_tracker.csv')"
   ]
  },
  {
   "cell_type": "markdown",
   "id": "c0995d3a-2766-4bb2-a685-694b550d2cc1",
   "metadata": {},
   "source": [
    "## Insert columns and rows"
   ]
  },
  {
   "cell_type": "code",
   "execution_count": 300,
   "id": "54322386-7223-4c32-968e-638142ee5dd0",
   "metadata": {},
   "outputs": [],
   "source": [
    "df['Date'] = pd.to_datetime(df['Date'], format='%m/%d/%Y').dt.strftime('%Y-%m-%d')\n",
    "connection = pymysql.connect(\n",
    "    host=\"localhost\",\n",
    "    user=\"root\",\n",
    "    password=\"user_password\",\n",
    "    database=\"EXPENSES_DB\"\n",
    "    )\n",
    "cursor = connection.cursor()\n",
    "\n",
    "for index, row in df.iterrows():\n",
    "    create_query = \"\"\"\n",
    "    INSERT INTO Expense_tb (Date, Category, Payment_Mode, Description, Amount, Cashback)\n",
    "    VALUES (%s, %s, %s, %s, %s, %s)\n",
    "    \"\"\"\n",
    "    values = (row['Date'], row['Category'], row['Payment_Mode'], row['Description'], row['Amount'], row['Cashback'])\n",
    "    cursor.execute(create_query, values)\n",
    "    connection.commit()"
   ]
  }
 ],
 "metadata": {
  "kernelspec": {
   "display_name": "Python 3 (ipykernel)",
   "language": "python",
   "name": "python3"
  },
  "language_info": {
   "codemirror_mode": {
    "name": "ipython",
    "version": 3
   },
   "file_extension": ".py",
   "mimetype": "text/x-python",
   "name": "python",
   "nbconvert_exporter": "python",
   "pygments_lexer": "ipython3",
   "version": "3.12.4"
  }
 },
 "nbformat": 4,
 "nbformat_minor": 5
}
